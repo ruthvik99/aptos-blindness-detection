{
  "nbformat": 4,
  "nbformat_minor": 0,
  "metadata": {
    "colab": {
      "provenance": [],
      "authorship_tag": "ABX9TyMEbiKN+umspuRvnjObMCvF",
      "include_colab_link": true
    },
    "kernelspec": {
      "name": "python3",
      "display_name": "Python 3"
    },
    "language_info": {
      "name": "python"
    }
  },
  "cells": [
    {
      "cell_type": "markdown",
      "metadata": {
        "id": "view-in-github",
        "colab_type": "text"
      },
      "source": [
        "<a href=\"https://colab.research.google.com/github/ruthvik99/aptos-blindness-detection/blob/main/notebooks/0_EDA.ipynb\" target=\"_parent\"><img src=\"https://colab.research.google.com/assets/colab-badge.svg\" alt=\"Open In Colab\"/></a>"
      ]
    },
    {
      "cell_type": "code",
      "execution_count": 1,
      "metadata": {
        "colab": {
          "base_uri": "https://localhost:8080/"
        },
        "id": "3FdCQnt3Mr2V",
        "outputId": "aaedae31-de14-4602-932e-69f37457adfc"
      },
      "outputs": [
        {
          "output_type": "stream",
          "name": "stdout",
          "text": [
            "Cloning into 'aptos-blindness-detection'...\n",
            "remote: Enumerating objects: 28, done.\u001b[K\n",
            "remote: Counting objects: 100% (28/28), done.\u001b[K\n",
            "remote: Compressing objects: 100% (24/24), done.\u001b[K\n",
            "remote: Total 28 (delta 11), reused 0 (delta 0), pack-reused 0 (from 0)\u001b[K\n",
            "Receiving objects: 100% (28/28), 9.97 KiB | 352.00 KiB/s, done.\n",
            "Resolving deltas: 100% (11/11), done.\n",
            "/content/aptos-blindness-detection\n"
          ]
        }
      ],
      "source": [
        "!git clone https://github.com/ruthvik99/aptos-blindness-detection.git\n",
        "%cd aptos-blindness-detection"
      ]
    },
    {
      "cell_type": "code",
      "source": [],
      "metadata": {
        "id": "UDUT-4cPM7PC"
      },
      "execution_count": null,
      "outputs": []
    }
  ]
}